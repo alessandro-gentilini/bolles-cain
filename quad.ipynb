{
 "cells": [
  {
   "cell_type": "code",
   "execution_count": 2,
   "metadata": {
    "collapsed": false
   },
   "outputs": [
    {
     "ename": "ImportError",
     "evalue": "cannot import name nonlinsolve",
     "output_type": "error",
     "traceback": [
      "\u001b[0;31m---------------------------------------------------------------------------\u001b[0m",
      "\u001b[0;31mImportError\u001b[0m                               Traceback (most recent call last)",
      "\u001b[0;32m<ipython-input-2-a29a00d362c6>\u001b[0m in \u001b[0;36m<module>\u001b[0;34m()\u001b[0m\n\u001b[1;32m      1\u001b[0m \u001b[0;32mfrom\u001b[0m \u001b[0msympy\u001b[0m \u001b[0;32mimport\u001b[0m \u001b[0;34m*\u001b[0m\u001b[0;34m\u001b[0m\u001b[0m\n\u001b[0;32m----> 2\u001b[0;31m \u001b[0;32mfrom\u001b[0m \u001b[0msympy\u001b[0m\u001b[0;34m.\u001b[0m\u001b[0msolvers\u001b[0m\u001b[0;34m.\u001b[0m\u001b[0msolveset\u001b[0m \u001b[0;32mimport\u001b[0m \u001b[0mnonlinsolve\u001b[0m\u001b[0;34m\u001b[0m\u001b[0m\n\u001b[0m\u001b[1;32m      3\u001b[0m \u001b[0minit_session\u001b[0m\u001b[0;34m(\u001b[0m\u001b[0;34m)\u001b[0m\u001b[0;34m\u001b[0m\u001b[0m\n\u001b[1;32m      4\u001b[0m \u001b[0mx_A\u001b[0m\u001b[0;34m,\u001b[0m \u001b[0my_A\u001b[0m\u001b[0;34m,\u001b[0m \u001b[0mx_B\u001b[0m\u001b[0;34m,\u001b[0m \u001b[0my_B\u001b[0m\u001b[0;34m,\u001b[0m \u001b[0mLambda\u001b[0m\u001b[0;34m,\u001b[0m \u001b[0mt_x\u001b[0m\u001b[0;34m,\u001b[0m \u001b[0mt_y\u001b[0m\u001b[0;34m,\u001b[0m \u001b[0ms\u001b[0m\u001b[0;34m,\u001b[0m \u001b[0mc\u001b[0m \u001b[0;34m=\u001b[0m \u001b[0msymbols\u001b[0m\u001b[0;34m(\u001b[0m\u001b[0;34m'x_A y_A x_B y_B Lambda t_x t_y s c'\u001b[0m\u001b[0;34m)\u001b[0m\u001b[0;34m\u001b[0m\u001b[0m\n",
      "\u001b[0;31mImportError\u001b[0m: cannot import name nonlinsolve"
     ]
    }
   ],
   "source": [
    "from sympy import *\n",
    "from sympy.solvers.solveset import nonlinsolve\n",
    "init_session()\n",
    "x_A, y_A, x_B, y_B, Lambda, t_x, t_y, s, c = symbols('x_A y_A x_B y_B Lambda t_x t_y s c')"
   ]
  },
  {
   "cell_type": "code",
   "execution_count": 2,
   "metadata": {
    "collapsed": true
   },
   "outputs": [],
   "source": [
    "M = Matrix([[Lambda*c, -Lambda*s, t_x], [Lambda*s, Lambda*c, t_y],[0,0,1]])"
   ]
  },
  {
   "cell_type": "code",
   "execution_count": 3,
   "metadata": {
    "collapsed": false
   },
   "outputs": [
    {
     "data": {
      "image/png": "[encoded data removed]",
      "text/latex": [
       "$$\\left[\\begin{matrix}\\Lambda c & - \\Lambda s & t_{x}\\\\\\Lambda s & \\Lambda c & t_{y}\\\\0 & 0 & 1\\end{matrix}\\right]$$"
      ],
      "text/plain": [
       "⎡Λ⋅c  -Λ⋅s  tₓ ⎤\n",
       "⎢              ⎥\n",
       "⎢Λ⋅s  Λ⋅c   t_y⎥\n",
       "⎢              ⎥\n",
       "⎣ 0    0     1 ⎦"
      ]
     },
     "execution_count": 3,
     "metadata": {},
     "output_type": "execute_result"
    }
   ],
   "source": [
    "M"
   ]
  },
  {
   "cell_type": "code",
   "execution_count": 4,
   "metadata": {
    "collapsed": true
   },
   "outputs": [],
   "source": [
    "A=Matrix([[x_A],[y_A],[1]])"
   ]
  },
  {
   "cell_type": "code",
   "execution_count": 5,
   "metadata": {
    "collapsed": false
   },
   "outputs": [
    {
     "data": {
      "image/png": "[encoded data removed]",
      "text/latex": [
       "$$\\left[\\begin{matrix}x_{A}\\\\y_{A}\\\\1\\end{matrix}\\right]$$"
      ],
      "text/plain": [
       "⎡x_A⎤\n",
       "⎢   ⎥\n",
       "⎢y_A⎥\n",
       "⎢   ⎥\n",
       "⎣ 1 ⎦"
      ]
     },
     "execution_count": 5,
     "metadata": {},
     "output_type": "execute_result"
    }
   ],
   "source": [
    "A"
   ]
  },
  {
   "cell_type": "code",
   "execution_count": 6,
   "metadata": {
    "collapsed": false
   },
   "outputs": [],
   "source": [
    "e1=M*A"
   ]
  },
  {
   "cell_type": "code",
   "execution_count": 7,
   "metadata": {
    "collapsed": true
   },
   "outputs": [],
   "source": [
    "B=Matrix([[x_B],[y_B],[1]])"
   ]
  },
  {
   "cell_type": "code",
   "execution_count": 8,
   "metadata": {
    "collapsed": false
   },
   "outputs": [
    {
     "data": {
      "image/png": "[encoded data removed]",
      "text/latex": [
       "$$\\Lambda c x_{A} - \\Lambda s y_{A} + t_{x}$$"
      ],
      "text/plain": [
       "Λ⋅c⋅x_A - Λ⋅s⋅y_A + tₓ"
      ]
     },
     "execution_count": 8,
     "metadata": {},
     "output_type": "execute_result"
    }
   ],
   "source": [
    "e1[0]"
   ]
  },
  {
   "cell_type": "code",
   "execution_count": 9,
   "metadata": {
    "collapsed": false
   },
   "outputs": [
    {
     "data": {
      "image/png": "[encoded data removed]",
      "text/latex": [
       "$$\\Lambda c y_{A} + \\Lambda s x_{A} + t_{y}$$"
      ],
      "text/plain": [
       "Λ⋅c⋅y_A + Λ⋅s⋅x_A + t_y"
      ]
     },
     "execution_count": 9,
     "metadata": {},
     "output_type": "execute_result"
    }
   ],
   "source": [
    "e1[1]"
   ]
  },
  {
   "cell_type": "code",
   "execution_count": 10,
   "metadata": {
    "collapsed": false
   },
   "outputs": [],
   "source": [
    "e2=M*B"
   ]
  },
  {
   "cell_type": "markdown",
   "metadata": {},
   "source": []
  },
  {
   "cell_type": "code",
   "execution_count": 11,
   "metadata": {
    "collapsed": false
   },
   "outputs": [
    {
     "data": {
      "image/png": "[encoded data removed]",
      "text/latex": [
       "$$\\Lambda c x_{B} - \\Lambda s y_{B} + t_{x}$$"
      ],
      "text/plain": [
       "Λ⋅c⋅x_B - Λ⋅s⋅y_B + tₓ"
      ]
     },
     "execution_count": 11,
     "metadata": {},
     "output_type": "execute_result"
    }
   ],
   "source": [
    "e2[0]"
   ]
  },
  {
   "cell_type": "code",
   "execution_count": 12,
   "metadata": {
    "collapsed": false
   },
   "outputs": [
    {
     "data": {
      "image/png": "[encoded data removed]",
      "text/latex": [
       "$$\\Lambda c y_{B} + \\Lambda s x_{B} + t_{y}$$"
      ],
      "text/plain": [
       "Λ⋅c⋅y_B + Λ⋅s⋅x_B + t_y"
      ]
     },
     "execution_count": 12,
     "metadata": {},
     "output_type": "execute_result"
    }
   ],
   "source": [
    "e2[1]"
   ]
  },
  {
   "cell_type": "code",
   "execution_count": 13,
   "metadata": {
    "collapsed": false
   },
   "outputs": [],
   "source": [
    "Eqns = [e1[0],e1[1],e2[0]-1,e2[1]-1]"
   ]
  },
  {
   "cell_type": "code",
   "execution_count": 14,
   "metadata": {
    "collapsed": false
   },
   "outputs": [
    {
     "data": {
      "image/png": "[encoded data removed]",
      "text/latex": [
       "$$\\left [ \\Lambda c x_{A} - \\Lambda s y_{A} + t_{x}, \\quad \\Lambda c y_{A} + \\Lambda s x_{A} + t_{y}, \\quad \\Lambda c x_{B} - \\Lambda s y_{B} + t_{x} - 1, \\quad \\Lambda c y_{B} + \\Lambda s x_{B} + t_{y} - 1\\right ]$$"
      ],
      "text/plain": [
       "[Λ⋅c⋅x_A - Λ⋅s⋅y_A + tₓ, Λ⋅c⋅y_A + Λ⋅s⋅x_A + t_y, Λ⋅c⋅x_B - Λ⋅s⋅y_B + tₓ - 1, \n",
       "Λ⋅c⋅y_B + Λ⋅s⋅x_B + t_y - 1]"
      ]
     },
     "execution_count": 14,
     "metadata": {},
     "output_type": "execute_result"
    }
   ],
   "source": [
    "Eqns"
   ]
  },
  {
   "cell_type": "code",
   "execution_count": 15,
   "metadata": {
    "collapsed": false
   },
   "outputs": [],
   "source": [
    "sols=linsolve(Eqns, c, s, t_x, t_y)"
   ]
  },
  {
   "cell_type": "code",
   "execution_count": 16,
   "metadata": {
    "collapsed": false
   },
   "outputs": [
    {
     "data": {
      "image/png": "[encoded data removed]",
      "text/latex": [
       "$$\\left\\{\\left ( \\frac{- x_{A} + x_{B} - y_{A} + y_{B}}{\\Lambda \\left(x_{A}^{2} - 2 x_{A} x_{B} + x_{B}^{2} + y_{A}^{2} - 2 y_{A} y_{B} + y_{B}^{2}\\right)}, \\quad \\frac{- x_{A} + x_{B} + y_{A} - y_{B}}{\\Lambda \\left(x_{A}^{2} - 2 x_{A} x_{B} + x_{B}^{2} + y_{A}^{2} - 2 y_{A} y_{B} + y_{B}^{2}\\right)}, \\quad \\frac{x_{A}^{2} - x_{A} x_{B} - x_{A} y_{B} + x_{B} y_{A} + y_{A}^{2} - y_{A} y_{B}}{x_{A}^{2} - 2 x_{A} x_{B} + x_{B}^{2} + y_{A}^{2} - 2 y_{A} y_{B} + y_{B}^{2}}, \\quad \\frac{x_{A}^{2} - x_{A} x_{B} + x_{A} y_{B} - x_{B} y_{A} + y_{A}^{2} - y_{A} y_{B}}{x_{A}^{2} - 2 x_{A} x_{B} + x_{B}^{2} + y_{A}^{2} - 2 y_{A} y_{B} + y_{B}^{2}}\\right )\\right\\}$$"
      ],
      "text/plain": [
       "⎧⎛                                                                            \n",
       "⎪⎜                -x_A + x_B - y_A + y_B                                 -x_A \n",
       "⎨⎜─────────────────────────────────────────────────────, ─────────────────────\n",
       "⎪⎜  ⎛   2                  2      2                  2⎞    ⎛   2              \n",
       "⎩⎝Λ⋅⎝x_A  - 2⋅x_A⋅x_B + x_B  + y_A  - 2⋅y_A⋅y_B + y_B ⎠  Λ⋅⎝x_A  - 2⋅x_A⋅x_B +\n",
       "\n",
       "                                     2                                    2   \n",
       "+ x_B + y_A - y_B                 x_A  - x_A⋅x_B - x_A⋅y_B + x_B⋅y_A + y_A  - \n",
       "────────────────────────────────, ────────────────────────────────────────────\n",
       "    2      2                  2⎞      2                  2      2             \n",
       " x_B  + y_A  - 2⋅y_A⋅y_B + y_B ⎠   x_A  - 2⋅x_A⋅x_B + x_B  + y_A  - 2⋅y_A⋅y_B \n",
       "\n",
       "            2                                    2          ⎞⎫\n",
       "y_A⋅y_B  x_A  - x_A⋅x_B + x_A⋅y_B - x_B⋅y_A + y_A  - y_A⋅y_B⎟⎪\n",
       "───────, ───────────────────────────────────────────────────⎟⎬\n",
       "     2       2                  2      2                  2 ⎟⎪\n",
       "+ y_B     x_A  - 2⋅x_A⋅x_B + x_B  + y_A  - 2⋅y_A⋅y_B + y_B  ⎠⎭"
      ]
     },
     "execution_count": 16,
     "metadata": {},
     "output_type": "execute_result"
    }
   ],
   "source": [
    "sols"
   ]
  },
  {
   "cell_type": "code",
   "execution_count": 17,
   "metadata": {
    "collapsed": false
   },
   "outputs": [
    {
     "name": "stdout",
     "output_type": "stream",
     "text": [
      "((-x_A + x_B - y_A + y_B)/(Lambda*(x_A**2 - 2*x_A*x_B + x_B**2 + y_A**2 - 2*y_A*y_B + y_B**2)), (-x_A + x_B + y_A - y_B)/(Lambda*(x_A**2 - 2*x_A*x_B + x_B**2 + y_A**2 - 2*y_A*y_B + y_B**2)), (x_A**2 - x_A*x_B - x_A*y_B + x_B*y_A + y_A**2 - y_A*y_B)/(x_A**2 - 2*x_A*x_B + x_B**2 + y_A**2 - 2*y_A*y_B + y_B**2), (x_A**2 - x_A*x_B + x_A*y_B - x_B*y_A + y_A**2 - y_A*y_B)/(x_A**2 - 2*x_A*x_B + x_B**2 + y_A**2 - 2*y_A*y_B + y_B**2))\n"
     ]
    }
   ],
   "source": [
    "for q in sols:\n",
    "    print(q)"
   ]
  },
  {
   "cell_type": "code",
   "execution_count": 18,
   "metadata": {
    "collapsed": false
   },
   "outputs": [],
   "source": [
    "cc=(-x_A + x_B - y_A + y_B)/(Lambda*(x_A**2 - 2*x_A*x_B + x_B**2 + y_A**2 - 2*y_A*y_B + y_B**2))"
   ]
  },
  {
   "cell_type": "code",
   "execution_count": 19,
   "metadata": {
    "collapsed": false
   },
   "outputs": [
    {
     "data": {
      "image/png": "[encoded data removed]",
      "text/latex": [
       "$$\\frac{- x_{A} + x_{B} - y_{A} + y_{B}}{\\Lambda \\left(x_{A}^{2} - 2 x_{A} x_{B} + x_{B}^{2} + y_{A}^{2} - 2 y_{A} y_{B} + y_{B}^{2}\\right)}$$"
      ],
      "text/plain": [
       "                -x_A + x_B - y_A + y_B               \n",
       "─────────────────────────────────────────────────────\n",
       "  ⎛   2                  2      2                  2⎞\n",
       "Λ⋅⎝x_A  - 2⋅x_A⋅x_B + x_B  + y_A  - 2⋅y_A⋅y_B + y_B ⎠"
      ]
     },
     "execution_count": 19,
     "metadata": {},
     "output_type": "execute_result"
    }
   ],
   "source": [
    "cc"
   ]
  },
  {
   "cell_type": "code",
   "execution_count": 20,
   "metadata": {
    "collapsed": false
   },
   "outputs": [],
   "source": [
    "ss=(-x_A + x_B + y_A - y_B)/(Lambda*(x_A**2 - 2*x_A*x_B + x_B**2 + y_A**2 - 2*y_A*y_B + y_B**2))"
   ]
  },
  {
   "cell_type": "code",
   "execution_count": 21,
   "metadata": {
    "collapsed": false
   },
   "outputs": [
    {
     "data": {
      "image/png": "[encoded data removed]",
      "text/latex": [
       "$$\\frac{- x_{A} + x_{B} + y_{A} - y_{B}}{\\Lambda \\left(x_{A}^{2} - 2 x_{A} x_{B} + x_{B}^{2} + y_{A}^{2} - 2 y_{A} y_{B} + y_{B}^{2}\\right)}$$"
      ],
      "text/plain": [
       "                -x_A + x_B + y_A - y_B               \n",
       "─────────────────────────────────────────────────────\n",
       "  ⎛   2                  2      2                  2⎞\n",
       "Λ⋅⎝x_A  - 2⋅x_A⋅x_B + x_B  + y_A  - 2⋅y_A⋅y_B + y_B ⎠"
      ]
     },
     "execution_count": 21,
     "metadata": {},
     "output_type": "execute_result"
    }
   ],
   "source": [
    "ss"
   ]
  },
  {
   "cell_type": "code",
   "execution_count": 22,
   "metadata": {
    "collapsed": false
   },
   "outputs": [],
   "source": [
    "Eqns2 = [e1[0],e1[1],e2[0]-1,e2[1]-1,s**2+c**2-1]"
   ]
  },
  {
   "cell_type": "code",
   "execution_count": 24,
   "metadata": {
    "collapsed": false
   },
   "outputs": [
    {
     "ename": "NameError",
     "evalue": "name 'nonlinsolve' is not defined",
     "output_type": "error",
     "traceback": [
      "\u001b[0;31m---------------------------------------------------------------------------\u001b[0m",
      "\u001b[0;31mNameError\u001b[0m                                 Traceback (most recent call last)",
      "\u001b[0;32m<ipython-input-24-0a6df0101452>\u001b[0m in \u001b[0;36m<module>\u001b[0;34m()\u001b[0m\n\u001b[0;32m----> 1\u001b[0;31m \u001b[0mnonlinsolve\u001b[0m\u001b[0;34m(\u001b[0m\u001b[0mEqns2\u001b[0m\u001b[0;34m,\u001b[0m\u001b[0;34m[\u001b[0m\u001b[0mc\u001b[0m\u001b[0;34m,\u001b[0m \u001b[0ms\u001b[0m\u001b[0;34m,\u001b[0m \u001b[0mt_x\u001b[0m\u001b[0;34m,\u001b[0m \u001b[0mt_y\u001b[0m\u001b[0;34m,\u001b[0m \u001b[0mLambda\u001b[0m\u001b[0;34m]\u001b[0m\u001b[0;34m)\u001b[0m\u001b[0;34m\u001b[0m\u001b[0m\n\u001b[0m",
      "\u001b[0;31mNameError\u001b[0m: name 'nonlinsolve' is not defined"
     ]
    }
   ],
   "source": [
    "nonlinsolve(Eqns2,[c, s, t_x, t_y, Lambda])"
   ]
  },
  {
   "cell_type": "code",
   "execution_count": null,
   "metadata": {
    "collapsed": true
   },
   "outputs": [],
   "source": []
  }
 ],
 "metadata": {
  "kernelspec": {
   "display_name": "Python 2",
   "language": "python",
   "name": "python2"
  },
  "language_info": {
   "codemirror_mode": {
    "name": "ipython",
    "version": 2
   },
   "file_extension": ".py",
   "mimetype": "text/x-python",
   "name": "python",
   "nbconvert_exporter": "python",
   "pygments_lexer": "ipython2",
   "version": "2.7.13"
  }
 },
 "nbformat": 4,
 "nbformat_minor": 2
}
