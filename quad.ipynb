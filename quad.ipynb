{
 "cells": [
  {
   "cell_type": "code",
   "execution_count": 1,
   "metadata": {},
   "outputs": [
    {
     "name": "stdout",
     "output_type": "stream",
     "text": [
      "IPython console for SymPy 1.3 (Python 2.7.15-64-bit) (ground types: gmpy)\n",
      "\n",
      "These commands were executed:\n",
      ">>> from __future__ import division\n",
      ">>> from sympy import *\n",
      ">>> x, y, z, t = symbols('x y z t')\n",
      ">>> k, m, n = symbols('k m n', integer=True)\n",
      ">>> f, g, h = symbols('f g h', cls=Function)\n",
      ">>> init_printing()\n",
      "\n",
      "Documentation can be found at http://docs.sympy.org/1.3/\n",
      "\n"
     ]
    }
   ],
   "source": [
    "from sympy import *\n",
    "from sympy.solvers.solveset import nonlinsolve\n",
    "from sympy.utilities.codegen import codegen\n",
    "init_session()\n",
    "x_A, y_A, x_B, y_B, Lambda, t_x, t_y, s, c = symbols('x_A y_A x_B y_B Lambda t_x t_y s c')"
   ]
  },
  {
   "cell_type": "code",
   "execution_count": 2,
   "metadata": {},
   "outputs": [],
   "source": [
    "M = Matrix([[Lambda*c, -Lambda*s, t_x], [Lambda*s, Lambda*c, t_y],[0,0,1]])"
   ]
  },
  {
   "cell_type": "code",
   "execution_count": 3,
   "metadata": {},
   "outputs": [
    {
     "data": {
      "image/png": "[encoded data removed]",
      "text/latex": [
       "$$\\left[\\begin{matrix}\\Lambda c & - \\Lambda s & t_{x}\\\\\\Lambda s & \\Lambda c & t_{y}\\\\0 & 0 & 1\\end{matrix}\\right]$$"
      ],
      "text/plain": [
       "⎡Λ⋅c  -Λ⋅s  tₓ ⎤\n",
       "⎢              ⎥\n",
       "⎢Λ⋅s  Λ⋅c   t_y⎥\n",
       "⎢              ⎥\n",
       "⎣ 0    0     1 ⎦"
      ]
     },
     "execution_count": 3,
     "metadata": {},
     "output_type": "execute_result"
    }
   ],
   "source": [
    "M"
   ]
  },
  {
   "cell_type": "code",
   "execution_count": 4,
   "metadata": {},
   "outputs": [],
   "source": [
    "A=Matrix([[x_A],[y_A],[1]])"
   ]
  },
  {
   "cell_type": "code",
   "execution_count": 5,
   "metadata": {},
   "outputs": [
    {
     "data": {
      "image/png": "[encoded data removed]",
      "text/latex": [
       "$$\\left[\\begin{matrix}x_{A}\\\\y_{A}\\\\1\\end{matrix}\\right]$$"
      ],
      "text/plain": [
       "⎡x_A⎤\n",
       "⎢   ⎥\n",
       "⎢y_A⎥\n",
       "⎢   ⎥\n",
       "⎣ 1 ⎦"
      ]
     },
     "execution_count": 5,
     "metadata": {},
     "output_type": "execute_result"
    }
   ],
   "source": [
    "A"
   ]
  },
  {
   "cell_type": "code",
   "execution_count": 6,
   "metadata": {},
   "outputs": [],
   "source": [
    "e1=M*A"
   ]
  },
  {
   "cell_type": "code",
   "execution_count": 7,
   "metadata": {},
   "outputs": [],
   "source": [
    "B=Matrix([[x_B],[y_B],[1]])"
   ]
  },
  {
   "cell_type": "code",
   "execution_count": 8,
   "metadata": {},
   "outputs": [
    {
     "data": {
      "image/png": "[encoded data removed]",
      "text/latex": [
       "$$\\Lambda c x_{A} - \\Lambda s y_{A} + t_{x}$$"
      ],
      "text/plain": [
       "Λ⋅c⋅x_A - Λ⋅s⋅y_A + tₓ"
      ]
     },
     "execution_count": 8,
     "metadata": {},
     "output_type": "execute_result"
    }
   ],
   "source": [
    "e1[0]"
   ]
  },
  {
   "cell_type": "code",
   "execution_count": 9,
   "metadata": {},
   "outputs": [
    {
     "data": {
      "image/png": "[encoded data removed]",
      "text/latex": [
       "$$\\Lambda c y_{A} + \\Lambda s x_{A} + t_{y}$$"
      ],
      "text/plain": [
       "Λ⋅c⋅y_A + Λ⋅s⋅x_A + t_y"
      ]
     },
     "execution_count": 9,
     "metadata": {},
     "output_type": "execute_result"
    }
   ],
   "source": [
    "e1[1]"
   ]
  },
  {
   "cell_type": "code",
   "execution_count": 10,
   "metadata": {},
   "outputs": [],
   "source": [
    "e2=M*B"
   ]
  },
  {
   "cell_type": "code",
   "execution_count": 11,
   "metadata": {},
   "outputs": [
    {
     "data": {
      "image/png": "[encoded data removed]",
      "text/latex": [
       "$$\\Lambda c x_{B} - \\Lambda s y_{B} + t_{x}$$"
      ],
      "text/plain": [
       "Λ⋅c⋅x_B - Λ⋅s⋅y_B + tₓ"
      ]
     },
     "execution_count": 11,
     "metadata": {},
     "output_type": "execute_result"
    }
   ],
   "source": [
    "e2[0]"
   ]
  },
  {
   "cell_type": "code",
   "execution_count": 12,
   "metadata": {},
   "outputs": [
    {
     "data": {
      "image/png": "[encoded data removed]",
      "text/latex": [
       "$$\\Lambda c y_{B} + \\Lambda s x_{B} + t_{y}$$"
      ],
      "text/plain": [
       "Λ⋅c⋅y_B + Λ⋅s⋅x_B + t_y"
      ]
     },
     "execution_count": 12,
     "metadata": {},
     "output_type": "execute_result"
    }
   ],
   "source": [
    "e2[1]"
   ]
  },
  {
   "cell_type": "code",
   "execution_count": 13,
   "metadata": {},
   "outputs": [],
   "source": [
    "Eqns = [e1[0],e1[1],e2[0]-1,e2[1]-1]"
   ]
  },
  {
   "cell_type": "code",
   "execution_count": 14,
   "metadata": {},
   "outputs": [
    {
     "data": {
      "image/png": "[encoded data removed]",
      "text/latex": [
       "$$\\left [ \\Lambda c x_{A} - \\Lambda s y_{A} + t_{x}, \\quad \\Lambda c y_{A} + \\Lambda s x_{A} + t_{y}, \\quad \\Lambda c x_{B} - \\Lambda s y_{B} + t_{x} - 1, \\quad \\Lambda c y_{B} + \\Lambda s x_{B} + t_{y} - 1\\right ]$$"
      ],
      "text/plain": [
       "[Λ⋅c⋅x_A - Λ⋅s⋅y_A + tₓ, Λ⋅c⋅y_A + Λ⋅s⋅x_A + t_y, Λ⋅c⋅x_B - Λ⋅s⋅y_B + tₓ - 1, \n",
       "Λ⋅c⋅y_B + Λ⋅s⋅x_B + t_y - 1]"
      ]
     },
     "execution_count": 14,
     "metadata": {},
     "output_type": "execute_result"
    }
   ],
   "source": [
    "Eqns"
   ]
  },
  {
   "cell_type": "code",
   "execution_count": 15,
   "metadata": {},
   "outputs": [],
   "source": [
    "sols=linsolve(Eqns, c, s, t_x, t_y)"
   ]
  },
  {
   "cell_type": "code",
   "execution_count": 16,
   "metadata": {},
   "outputs": [
    {
     "data": {
      "image/png": "[encoded data removed]",
      "text/latex": [
       "$$\\left\\{\\left ( \\frac{- x_{A} + x_{B} - y_{A} + y_{B}}{\\Lambda \\left(x_{A}^{2} - 2 x_{A} x_{B} + x_{B}^{2} + y_{A}^{2} - 2 y_{A} y_{B} + y_{B}^{2}\\right)}, \\quad \\frac{- x_{A} + x_{B} + y_{A} - y_{B}}{\\Lambda \\left(x_{A}^{2} - 2 x_{A} x_{B} + x_{B}^{2} + y_{A}^{2} - 2 y_{A} y_{B} + y_{B}^{2}\\right)}, \\quad \\frac{x_{A}^{2} - x_{A} x_{B} - x_{A} y_{B} + x_{B} y_{A} + y_{A}^{2} - y_{A} y_{B}}{x_{A}^{2} - 2 x_{A} x_{B} + x_{B}^{2} + y_{A}^{2} - 2 y_{A} y_{B} + y_{B}^{2}}, \\quad \\frac{x_{A}^{2} - x_{A} x_{B} + x_{A} y_{B} - x_{B} y_{A} + y_{A}^{2} - y_{A} y_{B}}{x_{A}^{2} - 2 x_{A} x_{B} + x_{B}^{2} + y_{A}^{2} - 2 y_{A} y_{B} + y_{B}^{2}}\\right )\\right\\}$$"
      ],
      "text/plain": [
       "⎧⎛                                                                            \n",
       "⎪⎜                -x_A + x_B - y_A + y_B                                 -x_A \n",
       "⎨⎜─────────────────────────────────────────────────────, ─────────────────────\n",
       "⎪⎜  ⎛   2                  2      2                  2⎞    ⎛   2              \n",
       "⎩⎝Λ⋅⎝x_A  - 2⋅x_A⋅x_B + x_B  + y_A  - 2⋅y_A⋅y_B + y_B ⎠  Λ⋅⎝x_A  - 2⋅x_A⋅x_B +\n",
       "\n",
       "                                     2                                    2   \n",
       "+ x_B + y_A - y_B                 x_A  - x_A⋅x_B - x_A⋅y_B + x_B⋅y_A + y_A  - \n",
       "────────────────────────────────, ────────────────────────────────────────────\n",
       "    2      2                  2⎞      2                  2      2             \n",
       " x_B  + y_A  - 2⋅y_A⋅y_B + y_B ⎠   x_A  - 2⋅x_A⋅x_B + x_B  + y_A  - 2⋅y_A⋅y_B \n",
       "\n",
       "            2                                    2          ⎞⎫\n",
       "y_A⋅y_B  x_A  - x_A⋅x_B + x_A⋅y_B - x_B⋅y_A + y_A  - y_A⋅y_B⎟⎪\n",
       "───────, ───────────────────────────────────────────────────⎟⎬\n",
       "     2       2                  2      2                  2 ⎟⎪\n",
       "+ y_B     x_A  - 2⋅x_A⋅x_B + x_B  + y_A  - 2⋅y_A⋅y_B + y_B  ⎠⎭"
      ]
     },
     "execution_count": 16,
     "metadata": {},
     "output_type": "execute_result"
    }
   ],
   "source": [
    "sols"
   ]
  },
  {
   "cell_type": "code",
   "execution_count": 17,
   "metadata": {},
   "outputs": [
    {
     "name": "stdout",
     "output_type": "stream",
     "text": [
      "((-x_A + x_B - y_A + y_B)/(Lambda*(x_A**2 - 2*x_A*x_B + x_B**2 + y_A**2 - 2*y_A*y_B + y_B**2)), (-x_A + x_B + y_A - y_B)/(Lambda*(x_A**2 - 2*x_A*x_B + x_B**2 + y_A**2 - 2*y_A*y_B + y_B**2)), (x_A**2 - x_A*x_B - x_A*y_B + x_B*y_A + y_A**2 - y_A*y_B)/(x_A**2 - 2*x_A*x_B + x_B**2 + y_A**2 - 2*y_A*y_B + y_B**2), (x_A**2 - x_A*x_B + x_A*y_B - x_B*y_A + y_A**2 - y_A*y_B)/(x_A**2 - 2*x_A*x_B + x_B**2 + y_A**2 - 2*y_A*y_B + y_B**2))\n"
     ]
    }
   ],
   "source": [
    "for q in sols:\n",
    "    print(q)"
   ]
  },
  {
   "cell_type": "code",
   "execution_count": 18,
   "metadata": {},
   "outputs": [],
   "source": [
    "cc=(-x_A + x_B - y_A + y_B)/(Lambda*(x_A**2 - 2*x_A*x_B + x_B**2 + y_A**2 - 2*y_A*y_B + y_B**2))"
   ]
  },
  {
   "cell_type": "code",
   "execution_count": 19,
   "metadata": {},
   "outputs": [
    {
     "data": {
      "image/png": "[encoded data removed]",
      "text/latex": [
       "$$\\frac{- x_{A} + x_{B} - y_{A} + y_{B}}{\\Lambda \\left(x_{A}^{2} - 2 x_{A} x_{B} + x_{B}^{2} + y_{A}^{2} - 2 y_{A} y_{B} + y_{B}^{2}\\right)}$$"
      ],
      "text/plain": [
       "                -x_A + x_B - y_A + y_B               \n",
       "─────────────────────────────────────────────────────\n",
       "  ⎛   2                  2      2                  2⎞\n",
       "Λ⋅⎝x_A  - 2⋅x_A⋅x_B + x_B  + y_A  - 2⋅y_A⋅y_B + y_B ⎠"
      ]
     },
     "execution_count": 19,
     "metadata": {},
     "output_type": "execute_result"
    }
   ],
   "source": [
    "cc"
   ]
  },
  {
   "cell_type": "code",
   "execution_count": 20,
   "metadata": {},
   "outputs": [],
   "source": [
    "ss=(-x_A + x_B + y_A - y_B)/(Lambda*(x_A**2 - 2*x_A*x_B + x_B**2 + y_A**2 - 2*y_A*y_B + y_B**2))"
   ]
  },
  {
   "cell_type": "code",
   "execution_count": 21,
   "metadata": {},
   "outputs": [
    {
     "data": {
      "image/png": "[encoded data removed]",
      "text/latex": [
       "$$\\frac{- x_{A} + x_{B} + y_{A} - y_{B}}{\\Lambda \\left(x_{A}^{2} - 2 x_{A} x_{B} + x_{B}^{2} + y_{A}^{2} - 2 y_{A} y_{B} + y_{B}^{2}\\right)}$$"
      ],
      "text/plain": [
       "                -x_A + x_B + y_A - y_B               \n",
       "─────────────────────────────────────────────────────\n",
       "  ⎛   2                  2      2                  2⎞\n",
       "Λ⋅⎝x_A  - 2⋅x_A⋅x_B + x_B  + y_A  - 2⋅y_A⋅y_B + y_B ⎠"
      ]
     },
     "execution_count": 21,
     "metadata": {},
     "output_type": "execute_result"
    }
   ],
   "source": [
    "ss"
   ]
  },
  {
   "cell_type": "code",
   "execution_count": 22,
   "metadata": {},
   "outputs": [],
   "source": [
    "Eqns2 = [e1[0],e1[1],e2[0]-1,e2[1]-1,s**2+c**2-1]"
   ]
  },
  {
   "cell_type": "code",
   "execution_count": 23,
   "metadata": {},
   "outputs": [],
   "source": [
    "sols2=nonlinsolve(Eqns2,[c, s, t_x, t_y, Lambda])"
   ]
  },
  {
   "cell_type": "code",
   "execution_count": 24,
   "metadata": {},
   "outputs": [
    {
     "data": {
      "image/png": "[encoded data removed]",
      "text/latex": [
       "$$\\left\\{\\left ( \\frac{\\sqrt{2} \\left(- x_{A} + x_{B} - y_{A} + y_{B}\\right) \\sqrt{\\frac{1}{x_{A}^{2} - 2 x_{A} x_{B} + x_{B}^{2} + y_{A}^{2} - 2 y_{A} y_{B} + y_{B}^{2}}}}{2}, \\quad \\frac{\\sqrt{2} \\left(- x_{A} + x_{B} + y_{A} - y_{B}\\right) \\sqrt{\\frac{1}{x_{A}^{2} - 2 x_{A} x_{B} + x_{B}^{2} + y_{A}^{2} - 2 y_{A} y_{B} + y_{B}^{2}}}}{2}, \\quad \\frac{x_{A}^{2} - x_{A} x_{B} - x_{A} y_{B} + x_{B} y_{A} + y_{A}^{2} - y_{A} y_{B}}{x_{A}^{2} - 2 x_{A} x_{B} + x_{B}^{2} + y_{A}^{2} - 2 y_{A} y_{B} + y_{B}^{2}}, \\quad \\frac{x_{A}^{2} - x_{A} x_{B} + x_{A} y_{B} - x_{B} y_{A} + y_{A}^{2} - y_{A} y_{B}}{x_{A}^{2} - 2 x_{A} x_{B} + x_{B}^{2} + y_{A}^{2} - 2 y_{A} y_{B} + y_{B}^{2}}, \\quad \\sqrt{2} \\sqrt{\\frac{1}{x_{A}^{2} - 2 x_{A} x_{B} + x_{B}^{2} + y_{A}^{2} - 2 y_{A} y_{B} + y_{B}^{2}}}\\right ), \\left ( \\frac{\\sqrt{2} \\left(x_{A} - x_{B} + y_{A} - y_{B}\\right) \\sqrt{\\frac{1}{x_{A}^{2} - 2 x_{A} x_{B} + x_{B}^{2} + y_{A}^{2} - 2 y_{A} y_{B} + y_{B}^{2}}}}{2}, \\quad \\frac{\\sqrt{2} \\left(x_{A} - x_{B} - y_{A} + y_{B}\\right) \\sqrt{\\frac{1}{x_{A}^{2} - 2 x_{A} x_{B} + x_{B}^{2} + y_{A}^{2} - 2 y_{A} y_{B} + y_{B}^{2}}}}{2}, \\quad \\frac{x_{A}^{2} - x_{A} x_{B} - x_{A} y_{B} + x_{B} y_{A} + y_{A}^{2} - y_{A} y_{B}}{x_{A}^{2} - 2 x_{A} x_{B} + x_{B}^{2} + y_{A}^{2} - 2 y_{A} y_{B} + y_{B}^{2}}, \\quad \\frac{x_{A}^{2} - x_{A} x_{B} + x_{A} y_{B} - x_{B} y_{A} + y_{A}^{2} - y_{A} y_{B}}{x_{A}^{2} - 2 x_{A} x_{B} + x_{B}^{2} + y_{A}^{2} - 2 y_{A} y_{B} + y_{B}^{2}}, \\quad - \\sqrt{2} \\sqrt{\\frac{1}{x_{A}^{2} - 2 x_{A} x_{B} + x_{B}^{2} + y_{A}^{2} - 2 y_{A} y_{B} + y_{B}^{2}}}\\right )\\right\\}$$"
      ],
      "text/plain": [
       "⎧⎛                                 ___________________________________________\n",
       "⎪⎜                                ╱                         1                 \n",
       "⎪⎜√2⋅(-x_A + x_B - y_A + y_B)⋅   ╱  ──────────────────────────────────────────\n",
       "⎪⎜                              ╱      2                  2      2            \n",
       "⎨⎜                            ╲╱    x_A  - 2⋅x_A⋅x_B + x_B  + y_A  - 2⋅y_A⋅y_B\n",
       "⎪⎜────────────────────────────────────────────────────────────────────────────\n",
       "⎪⎜                                         2                                  \n",
       "⎪⎝                                                                            \n",
       "⎩                                                                             \n",
       "\n",
       "________                                   ___________________________________\n",
       "                                          ╱                         1         \n",
       "───────   √2⋅(-x_A + x_B + y_A - y_B)⋅   ╱  ──────────────────────────────────\n",
       "      2                                 ╱      2                  2      2    \n",
       " + y_B                                ╲╱    x_A  - 2⋅x_A⋅x_B + x_B  + y_A  - 2\n",
       "────────, ────────────────────────────────────────────────────────────────────\n",
       "                                                   2                          \n",
       "                                                                              \n",
       "                                                                              \n",
       "\n",
       "________________                                                              \n",
       "                                                                              \n",
       "───────────────                                                               \n",
       "              2      2                                    2               2   \n",
       "⋅y_A⋅y_B + y_B    x_A  - x_A⋅x_B - x_A⋅y_B + x_B⋅y_A + y_A  - y_A⋅y_B  x_A  - \n",
       "────────────────, ───────────────────────────────────────────────────, ───────\n",
       "                      2                  2      2                  2       2  \n",
       "                   x_A  - 2⋅x_A⋅x_B + x_B  + y_A  - 2⋅y_A⋅y_B + y_B     x_A  -\n",
       "                                                                              \n",
       "\n",
       "                                                                              \n",
       "                                                                              \n",
       "                                                                              \n",
       "                                 2                    ________________________\n",
       "x_A⋅x_B + x_A⋅y_B - x_B⋅y_A + y_A  - y_A⋅y_B         ╱                        \n",
       "────────────────────────────────────────────, √2⋅   ╱  ───────────────────────\n",
       "                2      2                  2        ╱      2                  2\n",
       " 2⋅x_A⋅x_B + x_B  + y_A  - 2⋅y_A⋅y_B + y_B       ╲╱    x_A  - 2⋅x_A⋅x_B + x_B \n",
       "                                                                              \n",
       "\n",
       "                           ⎞  ⎛                                _______________\n",
       "                           ⎟  ⎜                               ╱               \n",
       "                           ⎟  ⎜√2⋅(x_A - x_B + y_A - y_B)⋅   ╱  ──────────────\n",
       "___________________________⎟  ⎜                             ╱      2          \n",
       " 1                         ⎟  ⎜                           ╲╱    x_A  - 2⋅x_A⋅x\n",
       "────────────────────────── ⎟, ⎜───────────────────────────────────────────────\n",
       "      2                  2 ⎟  ⎜                                         2     \n",
       " + y_A  - 2⋅y_A⋅y_B + y_B  ⎠  ⎝                                               \n",
       "                                                                              \n",
       "\n",
       "____________________________________                                  ________\n",
       "          1                                                          ╱        \n",
       "───────────────────────────────────   √2⋅(x_A - x_B - y_A + y_B)⋅   ╱  ───────\n",
       "        2      2                  2                                ╱      2   \n",
       "_B + x_B  + y_A  - 2⋅y_A⋅y_B + y_B                               ╲╱    x_A  - \n",
       "────────────────────────────────────, ────────────────────────────────────────\n",
       "                                                                              \n",
       "                                                                              \n",
       "                                                                              \n",
       "\n",
       "___________________________________________                                   \n",
       "                 1                                                            \n",
       "──────────────────────────────────────────                                    \n",
       "               2      2                  2      2                             \n",
       "2⋅x_A⋅x_B + x_B  + y_A  - 2⋅y_A⋅y_B + y_B    x_A  - x_A⋅x_B - x_A⋅y_B + x_B⋅y_\n",
       "───────────────────────────────────────────, ─────────────────────────────────\n",
       " 2                                               2                  2      2  \n",
       "                                              x_A  - 2⋅x_A⋅x_B + x_B  + y_A  -\n",
       "                                                                              \n",
       "\n",
       "                                                                              \n",
       "                                                                              \n",
       "                                                                              \n",
       "       2               2                                    2                 \n",
       "A + y_A  - y_A⋅y_B  x_A  - x_A⋅x_B + x_A⋅y_B - x_B⋅y_A + y_A  - y_A⋅y_B       \n",
       "──────────────────, ───────────────────────────────────────────────────, -√2⋅ \n",
       "                2       2                  2      2                  2        \n",
       " 2⋅y_A⋅y_B + y_B     x_A  - 2⋅x_A⋅x_B + x_B  + y_A  - 2⋅y_A⋅y_B + y_B        ╲\n",
       "                                                                              \n",
       "\n",
       "                                                       ⎞⎫\n",
       "                                                       ⎟⎪\n",
       "                                                       ⎟⎪\n",
       "    ___________________________________________________⎟⎪\n",
       "   ╱                         1                         ⎟⎬\n",
       "  ╱  ───────────────────────────────────────────────── ⎟⎪\n",
       " ╱      2                  2      2                  2 ⎟⎪\n",
       "╱    x_A  - 2⋅x_A⋅x_B + x_B  + y_A  - 2⋅y_A⋅y_B + y_B  ⎠⎪\n",
       "                                                        ⎭"
      ]
     },
     "execution_count": 24,
     "metadata": {},
     "output_type": "execute_result"
    }
   ],
   "source": [
    "sols2"
   ]
  },
  {
   "cell_type": "code",
   "execution_count": 25,
   "metadata": {},
   "outputs": [
    {
     "name": "stdout",
     "output_type": "stream",
     "text": [
      "(sqrt(2)*(-x_A + x_B - y_A + y_B)*sqrt(1/(x_A**2 - 2*x_A*x_B + x_B**2 + y_A**2 - 2*y_A*y_B + y_B**2))/2, sqrt(2)*(-x_A + x_B + y_A - y_B)*sqrt(1/(x_A**2 - 2*x_A*x_B + x_B**2 + y_A**2 - 2*y_A*y_B + y_B**2))/2, (x_A**2 - x_A*x_B - x_A*y_B + x_B*y_A + y_A**2 - y_A*y_B)/(x_A**2 - 2*x_A*x_B + x_B**2 + y_A**2 - 2*y_A*y_B + y_B**2), (x_A**2 - x_A*x_B + x_A*y_B - x_B*y_A + y_A**2 - y_A*y_B)/(x_A**2 - 2*x_A*x_B + x_B**2 + y_A**2 - 2*y_A*y_B + y_B**2), sqrt(2)*sqrt(1/(x_A**2 - 2*x_A*x_B + x_B**2 + y_A**2 - 2*y_A*y_B + y_B**2)))\n",
      "(sqrt(2)*(x_A - x_B + y_A - y_B)*sqrt(1/(x_A**2 - 2*x_A*x_B + x_B**2 + y_A**2 - 2*y_A*y_B + y_B**2))/2, sqrt(2)*(x_A - x_B - y_A + y_B)*sqrt(1/(x_A**2 - 2*x_A*x_B + x_B**2 + y_A**2 - 2*y_A*y_B + y_B**2))/2, (x_A**2 - x_A*x_B - x_A*y_B + x_B*y_A + y_A**2 - y_A*y_B)/(x_A**2 - 2*x_A*x_B + x_B**2 + y_A**2 - 2*y_A*y_B + y_B**2), (x_A**2 - x_A*x_B + x_A*y_B - x_B*y_A + y_A**2 - y_A*y_B)/(x_A**2 - 2*x_A*x_B + x_B**2 + y_A**2 - 2*y_A*y_B + y_B**2), -sqrt(2)*sqrt(1/(x_A**2 - 2*x_A*x_B + x_B**2 + y_A**2 - 2*y_A*y_B + y_B**2)))\n"
     ]
    }
   ],
   "source": [
    "for q in sols2:\n",
    "    print(q)"
   ]
  },
  {
   "cell_type": "code",
   "execution_count": 26,
   "metadata": {},
   "outputs": [
    {
     "data": {
      "image/png": "[encoded data removed]",
      "text/latex": [
       "$$\\frac{\\sqrt{2} \\left(- x_{A} + x_{B} + y_{A} - y_{B}\\right) \\sqrt{\\frac{1}{x_{A}^{2} - 2 x_{A} x_{B} + x_{B}^{2} + y_{A}^{2} - 2 y_{A} y_{B} + y_{B}^{2}}}}{2}$$"
      ],
      "text/plain": [
       "                                 _____________________________________________\n",
       "                                ╱                         1                   \n",
       "√2⋅(-x_A + x_B + y_A - y_B)⋅   ╱  ────────────────────────────────────────────\n",
       "                              ╱      2                  2      2              \n",
       "                            ╲╱    x_A  - 2⋅x_A⋅x_B + x_B  + y_A  - 2⋅y_A⋅y_B +\n",
       "──────────────────────────────────────────────────────────────────────────────\n",
       "                                         2                                    \n",
       "\n",
       "______\n",
       "      \n",
       "───── \n",
       "    2 \n",
       " y_B  \n",
       "──────\n",
       "      "
      ]
     },
     "execution_count": 26,
     "metadata": {},
     "output_type": "execute_result"
    }
   ],
   "source": [
    "sols2.args[0][1] #https://stackoverflow.com/a/42466446"
   ]
  },
  {
   "cell_type": "code",
   "execution_count": 27,
   "metadata": {},
   "outputs": [
    {
     "name": "stdout",
     "output_type": "stream",
     "text": [
      "c=(1.0/2.0)*M_SQRT2*(-x_A + x_B - y_A + y_B)*sqrt(1.0/(pow(x_A, 2) - 2*x_A*x_B + pow(x_B, 2) + pow(y_A, 2) - 2*y_A*y_B + pow(y_B, 2)))\n"
     ]
    }
   ],
   "source": [
    "print(\"c=\"+ccode(sols2.args[0][0]))"
   ]
  },
  {
   "cell_type": "code",
   "execution_count": 28,
   "metadata": {},
   "outputs": [
    {
     "name": "stdout",
     "output_type": "stream",
     "text": [
      "s=(1.0/2.0)*M_SQRT2*(-x_A + x_B + y_A - y_B)*sqrt(1.0/(pow(x_A, 2) - 2*x_A*x_B + pow(x_B, 2) + pow(y_A, 2) - 2*y_A*y_B + pow(y_B, 2)))\n"
     ]
    }
   ],
   "source": [
    "print(\"s=\"+ccode(sols2.args[0][1]))"
   ]
  },
  {
   "cell_type": "code",
   "execution_count": 29,
   "metadata": {},
   "outputs": [
    {
     "name": "stdout",
     "output_type": "stream",
     "text": [
      "t_x=(pow(x_A, 2) - x_A*x_B - x_A*y_B + x_B*y_A + pow(y_A, 2) - y_A*y_B)/(pow(x_A, 2) - 2*x_A*x_B + pow(x_B, 2) + pow(y_A, 2) - 2*y_A*y_B + pow(y_B, 2))\n"
     ]
    }
   ],
   "source": [
    "print(\"t_x=\"+ccode(sols2.args[0][2]))"
   ]
  },
  {
   "cell_type": "code",
   "execution_count": 30,
   "metadata": {},
   "outputs": [
    {
     "name": "stdout",
     "output_type": "stream",
     "text": [
      "t_y=(pow(x_A, 2) - x_A*x_B + x_A*y_B - x_B*y_A + pow(y_A, 2) - y_A*y_B)/(pow(x_A, 2) - 2*x_A*x_B + pow(x_B, 2) + pow(y_A, 2) - 2*y_A*y_B + pow(y_B, 2))\n"
     ]
    }
   ],
   "source": [
    "print(\"t_y=\"+ccode(sols2.args[0][3]))"
   ]
  },
  {
   "cell_type": "code",
   "execution_count": 31,
   "metadata": {},
   "outputs": [
    {
     "name": "stdout",
     "output_type": "stream",
     "text": [
      "lambda=M_SQRT2*sqrt(1.0/(pow(x_A, 2) - 2*x_A*x_B + pow(x_B, 2) + pow(y_A, 2) - 2*y_A*y_B + pow(y_B, 2)))\n"
     ]
    }
   ],
   "source": [
    "print(\"lambda=\"+ccode(sols2.args[0][4]))"
   ]
  },
  {
   "cell_type": "code",
   "execution_count": 33,
   "metadata": {},
   "outputs": [
    {
     "data": {
      "image/png": "[encoded data removed]",
      "text/latex": [
       "$$1$$"
      ],
      "text/plain": [
       "1"
      ]
     },
     "execution_count": 33,
     "metadata": {},
     "output_type": "execute_result"
    }
   ],
   "source": [
    "simplify(sols2.args[0][0]**2+sols2.args[0][1]**2)"
   ]
  },
  {
   "cell_type": "code",
   "execution_count": null,
   "metadata": {},
   "outputs": [],
   "source": []
  }
 ],
 "metadata": {
  "kernelspec": {
   "display_name": "Python 2",
   "language": "python",
   "name": "python2"
  },
  "language_info": {
   "codemirror_mode": {
    "name": "ipython",
    "version": 2
   },
   "file_extension": ".py",
   "mimetype": "text/x-python",
   "name": "python",
   "nbconvert_exporter": "python",
   "pygments_lexer": "ipython2",
   "version": "2.7.15"
  }
 },
 "nbformat": 4,
 "nbformat_minor": 2
}
